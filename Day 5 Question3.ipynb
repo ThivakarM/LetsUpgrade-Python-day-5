{
 "cells": [
  {
   "cell_type": "markdown",
   "metadata": {},
   "source": [
    "# Question 3\n",
    "\n",
    "Make a Lambda function for capitalizing the whole sentence passed using arguments. And map all the sentences in the List with the lambda functions\n",
    "\n",
    "[\"hey this is sai\", i am in mumbai\",...]\n",
    "\n",
    "o/p- [\"Hey This Is Sai\", I Am in Mumbai,...]"
   ]
  },
  {
   "cell_type": "code",
   "execution_count": 3,
   "metadata": {},
   "outputs": [],
   "source": [
    "capitalise=lambda sentence: sentence.title() "
   ]
  },
  {
   "cell_type": "code",
   "execution_count": 4,
   "metadata": {},
   "outputs": [],
   "source": [
    "lst=[\"hey this is sai\", \"i am in mumbai\"]\n",
    "changed_lst=[]"
   ]
  },
  {
   "cell_type": "code",
   "execution_count": 5,
   "metadata": {},
   "outputs": [],
   "source": [
    "for item in lst:\n",
    "    changed_lst.append(capitalise(item))\n",
    "    "
   ]
  },
  {
   "cell_type": "code",
   "execution_count": 6,
   "metadata": {},
   "outputs": [
    {
     "name": "stdout",
     "output_type": "stream",
     "text": [
      "['Hey This Is Sai', 'I Am In Mumbai']\n"
     ]
    }
   ],
   "source": [
    "print(changed_lst)"
   ]
  },
  {
   "cell_type": "code",
   "execution_count": null,
   "metadata": {},
   "outputs": [],
   "source": []
  }
 ],
 "metadata": {
  "kernelspec": {
   "display_name": "Python 3",
   "language": "python",
   "name": "python3"
  },
  "language_info": {
   "codemirror_mode": {
    "name": "ipython",
    "version": 3
   },
   "file_extension": ".py",
   "mimetype": "text/x-python",
   "name": "python",
   "nbconvert_exporter": "python",
   "pygments_lexer": "ipython3",
   "version": "3.8.3"
  }
 },
 "nbformat": 4,
 "nbformat_minor": 4
}
