{
 "cells": [
  {
   "cell_type": "markdown",
   "metadata": {},
   "source": [
    "# Question 1\n",
    "\n",
    "Write a program to identify sub list [1,1,5] is there in the given list in the same order if yes print \"it's a Match\" if no then print \"it's Gone\" in function.\n",
    "\n",
    "Example\n",
    "\n",
    "Listx = [1,5,6,4,1,2,3,5] - it's a Match \n",
    "\n",
    "Listx = [1,5,6,5,1,2,3,6] - it's Gone"
   ]
  },
  {
   "cell_type": "code",
   "execution_count": 11,
   "metadata": {},
   "outputs": [],
   "source": [
    "Listx = [1,5,6,4,1,2,3,5] \n",
    "sublist= [1,1,5] "
   ]
  },
  {
   "cell_type": "code",
   "execution_count": 12,
   "metadata": {},
   "outputs": [
    {
     "name": "stdout",
     "output_type": "stream",
     "text": [
      "Its a Match\n"
     ]
    }
   ],
   "source": [
    "l=0\n",
    "u=len(Listx)\n",
    "flag=True\n",
    "for i in sublist:\n",
    "    try:\n",
    "        index=Listx.index(i,l,u)\n",
    "    except ValueError as e:\n",
    "        flag=False\n",
    "        print(\"Its Gone\")\n",
    "    l=index+1\n",
    "if flag==True:\n",
    "    print(\"Its a Match\")\n",
    "    "
   ]
  },
  {
   "cell_type": "code",
   "execution_count": 13,
   "metadata": {},
   "outputs": [],
   "source": [
    "Listx = [1,5,6,5,1,2,3,6]"
   ]
  },
  {
   "cell_type": "code",
   "execution_count": 14,
   "metadata": {},
   "outputs": [
    {
     "name": "stdout",
     "output_type": "stream",
     "text": [
      "Its Gone\n"
     ]
    }
   ],
   "source": [
    "l=0\n",
    "u=len(Listx)\n",
    "flag=True\n",
    "for i in sublist:\n",
    "    try:\n",
    "        index=Listx.index(i,l,u)\n",
    "    except ValueError as e:\n",
    "        flag=False\n",
    "        print(\"Its Gone\")\n",
    "    l=index+1\n",
    "if flag==True:\n",
    "    print(\"Its a Match\")"
   ]
  },
  {
   "cell_type": "code",
   "execution_count": null,
   "metadata": {},
   "outputs": [],
   "source": []
  }
 ],
 "metadata": {
  "kernelspec": {
   "display_name": "Python 3",
   "language": "python",
   "name": "python3"
  },
  "language_info": {
   "codemirror_mode": {
    "name": "ipython",
    "version": 3
   },
   "file_extension": ".py",
   "mimetype": "text/x-python",
   "name": "python",
   "nbconvert_exporter": "python",
   "pygments_lexer": "ipython3",
   "version": "3.8.3"
  }
 },
 "nbformat": 4,
 "nbformat_minor": 4
}
